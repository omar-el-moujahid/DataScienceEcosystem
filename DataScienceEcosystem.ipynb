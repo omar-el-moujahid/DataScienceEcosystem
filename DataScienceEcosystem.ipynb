{
  "nbformat": 4,
  "nbformat_minor": 0,
  "metadata": {
    "colab": {
      "provenance": []
    },
    "kernelspec": {
      "name": "python3",
      "display_name": "Python 3"
    },
    "language_info": {
      "name": "python"
    }
  },
  "cells": [
    {
      "cell_type": "markdown",
      "source": [
        " DataScienceEcosystem"
      ],
      "metadata": {
        "id": "H8kFpWr_V4kw"
      }
    },
    {
      "cell_type": "code",
      "source": [
        "# Data Science Tools and Ecosystem"
      ],
      "metadata": {
        "id": "NsG8TtMmV914"
      },
      "execution_count": 2,
      "outputs": []
    },
    {
      "cell_type": "markdown",
      "source": [
        "# Data Science Tools and Ecosystem"
      ],
      "metadata": {
        "id": "FwkaGq4Y-Sdl"
      }
    },
    {
      "cell_type": "markdown",
      "source": [
        "In this notebook, Data Science Tools and Ecosystem are summarized.\n"
      ],
      "metadata": {
        "id": "7nm4n1q_-RfN"
      }
    },
    {
      "cell_type": "code",
      "source": [],
      "metadata": {
        "id": "hCBBc7C2-sHc"
      },
      "execution_count": null,
      "outputs": []
    },
    {
      "cell_type": "markdown",
      "source": [
        "Some of the popular languages that Data Scientists use are:\n",
        "1. Python\n",
        "2. R\n",
        "3. SQL\n"
      ],
      "metadata": {
        "id": "kaoEsgCh-vkx"
      }
    },
    {
      "cell_type": "code",
      "source": [],
      "metadata": {
        "id": "SO620rGu-wGH"
      },
      "execution_count": null,
      "outputs": []
    },
    {
      "cell_type": "markdown",
      "source": [
        "Some of the commonly used libraries used by Data Scientists include:\n",
        "1. Pandas\n",
        "2. NumPy\n",
        "3. Scikit-learn\n"
      ],
      "metadata": {
        "id": "UTsfOIy2-0q5"
      }
    },
    {
      "cell_type": "code",
      "source": [],
      "metadata": {
        "id": "xxP8sNcA-1U0"
      },
      "execution_count": null,
      "outputs": []
    },
    {
      "cell_type": "markdown",
      "source": [
        "| Data Science Tools  |\n",
        "|---------------------|\n",
        "| Jupyter Notebook     |\n",
        "| RStudio             |\n",
        "| Spyder              |\n"
      ],
      "metadata": {
        "id": "KAIQ42e7-6D3"
      }
    },
    {
      "cell_type": "code",
      "source": [],
      "metadata": {
        "id": "HGCxw-mi-6du"
      },
      "execution_count": null,
      "outputs": []
    },
    {
      "cell_type": "markdown",
      "source": [
        "### Below are a few examples of evaluating arithmetic expressions in Python.\n"
      ],
      "metadata": {
        "id": "fVAtpEl0-96i"
      }
    },
    {
      "cell_type": "code",
      "source": [
        "(3 * 4) + 5\n"
      ],
      "metadata": {
        "colab": {
          "base_uri": "https://localhost:8080/"
        },
        "id": "rrZ7FOLz--Uw",
        "outputId": "a7b7d45a-c73f-4312-bb3f-923138d00944"
      },
      "execution_count": 5,
      "outputs": [
        {
          "output_type": "execute_result",
          "data": {
            "text/plain": [
              "17"
            ]
          },
          "metadata": {},
          "execution_count": 5
        }
      ]
    },
    {
      "cell_type": "code",
      "source": [
        "200 / 60\n"
      ],
      "metadata": {
        "colab": {
          "base_uri": "https://localhost:8080/"
        },
        "id": "Iv3kqGm5_DXF",
        "outputId": "4d2c7538-578b-436c-e323-7e6b8124ed4c"
      },
      "execution_count": 6,
      "outputs": [
        {
          "output_type": "execute_result",
          "data": {
            "text/plain": [
              "3.3333333333333335"
            ]
          },
          "metadata": {},
          "execution_count": 6
        }
      ]
    },
    {
      "cell_type": "code",
      "source": [],
      "metadata": {
        "id": "I-ZLt6dK_NqG"
      },
      "execution_count": null,
      "outputs": []
    },
    {
      "cell_type": "markdown",
      "source": [
        "**Objectives:**\n",
        "- List popular languages for Data Science\n",
        "- List commonly used libraries in Data Science\n",
        "- Showcase examples of arithmetic expressions in Python\n"
      ],
      "metadata": {
        "id": "ckWS1bwA_TXU"
      }
    },
    {
      "cell_type": "code",
      "source": [],
      "metadata": {
        "id": "crXJwt1L_T29"
      },
      "execution_count": null,
      "outputs": []
    },
    {
      "cell_type": "markdown",
      "source": [
        "## Author\n",
        "Omar El Moujahid\n"
      ],
      "metadata": {
        "id": "YIMCRxG-_X4I"
      }
    },
    {
      "cell_type": "code",
      "source": [],
      "metadata": {
        "id": "PY0LGmZf_YRZ"
      },
      "execution_count": null,
      "outputs": []
    }
  ]
}